{
 "cells": [
  {
   "cell_type": "code",
   "execution_count": 4,
   "metadata": {},
   "outputs": [
    {
     "name": "stdout",
     "output_type": "stream",
     "text": [
      "Collecting python-dotenv\n",
      "  Using cached python_dotenv-1.0.1-py3-none-any.whl.metadata (23 kB)\n",
      "Using cached python_dotenv-1.0.1-py3-none-any.whl (19 kB)\n",
      "Installing collected packages: python-dotenv\n",
      "Successfully installed python-dotenv-1.0.1\n"
     ]
    }
   ],
   "source": [
    "!pip install python-dotenv"
   ]
  },
  {
   "cell_type": "code",
   "execution_count": 25,
   "metadata": {},
   "outputs": [],
   "source": [
    "import os\n",
    "from sentence_transformers import SentenceTransformer\n",
    "import numpy as np\n",
    "import pandas as pd\n",
    "from openai import OpenAI\n",
    "from dotenv import load_dotenv\n",
    "import cv2\n",
    "\n",
    "load_dotenv()\n",
    "model = SentenceTransformer('paraphrase-MiniLM-L6-v2')\n",
    "options = os.getenv(\"OPTIONS\").split(\",\")\n",
    "api_key = os.getenv(\"OPENAI_API_KEY\")\n",
    "client = OpenAI(api_key=api_key)\n",
    "features = os.getenv(\"FEATURES\").split(\",\")\n",
    "sentence = \"Count me how many truck gold and silver there are.\"\n",
    "\n",
    "image = cv2.imread(\"images.jpg\")\n",
    "image_height, image_width, _ = image.shape\n",
    "image_area = image_width * image_height"
   ]
  },
  {
   "cell_type": "code",
   "execution_count": 10,
   "metadata": {},
   "outputs": [
    {
     "name": "stdout",
     "output_type": "stream",
     "text": [
      "Most Probability world is 'cars' with similarity 0.3768\n"
     ]
    }
   ],
   "source": [
    "sentence_embedding = model.encode([sentence])[0]\n",
    "options_embeddings = model.encode(options)\n",
    "\n",
    "similarities = {}\n",
    "for i, option in enumerate(options):\n",
    "    similarity = np.dot(sentence_embedding, options_embeddings[i]) / (np.linalg.norm(sentence_embedding) * np.linalg.norm(options_embeddings[i]))\n",
    "    similarities[option] = similarity\n",
    "\n",
    "best_option = max(similarities, key=similarities.get)\n",
    "\n",
    "print(f\"Most Probability world is '{best_option}' with similarity {similarities[best_option]:.4f}\")"
   ]
  },
  {
   "cell_type": "code",
   "execution_count": 11,
   "metadata": {},
   "outputs": [],
   "source": [
    "def get_filter_code(prompt: str) -> str:\n",
    "    response = client.chat.completions.create(\n",
    "        model=\"gpt-4o\",\n",
    "        messages=prompt,\n",
    "        max_tokens=1000,\n",
    "        temperature=0,\n",
    "    )\n",
    "    \n",
    "    return response.choices[0].message.content"
   ]
  },
  {
   "cell_type": "code",
   "execution_count": null,
   "metadata": {},
   "outputs": [
    {
     "data": {
      "text/html": [
       "<div>\n",
       "<style scoped>\n",
       "    .dataframe tbody tr th:only-of-type {\n",
       "        vertical-align: middle;\n",
       "    }\n",
       "\n",
       "    .dataframe tbody tr th {\n",
       "        vertical-align: top;\n",
       "    }\n",
       "\n",
       "    .dataframe thead th {\n",
       "        text-align: right;\n",
       "    }\n",
       "</style>\n",
       "<table border=\"1\" class=\"dataframe\">\n",
       "  <thead>\n",
       "    <tr style=\"text-align: right;\">\n",
       "      <th></th>\n",
       "      <th>mean_x</th>\n",
       "      <th>mean_y</th>\n",
       "      <th>mean_color_R</th>\n",
       "      <th>mean_color_G</th>\n",
       "      <th>mean_color_B</th>\n",
       "      <th>area</th>\n",
       "      <th>relative_area</th>\n",
       "      <th>relative_height</th>\n",
       "      <th>relative_width</th>\n",
       "    </tr>\n",
       "  </thead>\n",
       "  <tbody>\n",
       "    <tr>\n",
       "      <th>0</th>\n",
       "      <td>138.5</td>\n",
       "      <td>89.5</td>\n",
       "      <td>56.222222</td>\n",
       "      <td>76.222222</td>\n",
       "      <td>110.555556</td>\n",
       "      <td>9</td>\n",
       "      <td>0.000179</td>\n",
       "      <td>0.016393</td>\n",
       "      <td>0.010909</td>\n",
       "    </tr>\n",
       "    <tr>\n",
       "      <th>1</th>\n",
       "      <td>80.0</td>\n",
       "      <td>55.0</td>\n",
       "      <td>151.015000</td>\n",
       "      <td>169.123600</td>\n",
       "      <td>190.649000</td>\n",
       "      <td>5000</td>\n",
       "      <td>0.099354</td>\n",
       "      <td>0.273224</td>\n",
       "      <td>0.363636</td>\n",
       "    </tr>\n",
       "    <tr>\n",
       "      <th>2</th>\n",
       "      <td>150.0</td>\n",
       "      <td>150.0</td>\n",
       "      <td>78.157590</td>\n",
       "      <td>113.233253</td>\n",
       "      <td>143.865783</td>\n",
       "      <td>10000</td>\n",
       "      <td>0.198708</td>\n",
       "      <td>0.546448</td>\n",
       "      <td>0.363636</td>\n",
       "    </tr>\n",
       "  </tbody>\n",
       "</table>\n",
       "</div>"
      ],
      "text/plain": [
       "   mean_x  mean_y  mean_color_R  mean_color_G  mean_color_B   area  \\\n",
       "0   138.5    89.5     56.222222     76.222222    110.555556      9   \n",
       "1    80.0    55.0    151.015000    169.123600    190.649000   5000   \n",
       "2   150.0   150.0     78.157590    113.233253    143.865783  10000   \n",
       "\n",
       "   relative_area  relative_height  relative_width  \n",
       "0       0.000179         0.016393        0.010909  \n",
       "1       0.099354         0.273224        0.363636  \n",
       "2       0.198708         0.546448        0.363636  "
      ]
     },
     "execution_count": 20,
     "metadata": {},
     "output_type": "execute_result"
    }
   ],
   "source": [
    "points_array = np.array([\n",
    "    [[137, 91], [140, 88], [140, 88], [137, 91]],\n",
    "    [[30, 30], [130, 30], [130, 80], [30, 80]],\n",
    "    [[100, 100], [200, 100], [200, 200], [100, 200]]\n",
    "])\n",
    "\n",
    "def calculate_features(points, image):\n",
    "    x_min = min(p[0] for p in points)\n",
    "    x_max = max(p[0] for p in points)\n",
    "    y_min = min(p[1] for p in points)\n",
    "    y_max = max(p[1] for p in points)\n",
    "\n",
    "    area = (x_max - x_min) * (y_max - y_min)\n",
    "    relative_area = area / image_area\n",
    "    relative_height = (y_max - y_min) / image_height\n",
    "    relative_width = (x_max - x_min) / image_width\n",
    "\n",
    "    mean_x = np.mean([p[0] for p in points])\n",
    "    mean_y = np.mean([p[1] for p in points])\n",
    "\n",
    "    cropped_area = image[y_min:y_max, x_min:x_max]\n",
    "    mean_color = cv2.mean(cropped_area)[:3]  # BGR\n",
    "\n",
    "    return {\n",
    "        \"mean_x\": mean_x,\n",
    "        \"mean_y\": mean_y,\n",
    "        \"mean_color_R\": mean_color[2],\n",
    "        \"mean_color_G\": mean_color[1],\n",
    "        \"mean_color_B\": mean_color[0],\n",
    "        \"area\": area,\n",
    "        \"relative_area\": relative_area,\n",
    "        \"relative_height\": relative_height,\n",
    "        \"relative_width\": relative_width\n",
    "    }\n",
    "\n",
    "dataset = []\n",
    "for points in points_array:\n",
    "    features_dict = calculate_features(points, image)\n",
    "    dataset.append(features_dict)\n",
    "\n",
    "df = pd.DataFrame(dataset)\n",
    "\n",
    "df.head()"
   ]
  },
  {
   "cell_type": "code",
   "execution_count": 21,
   "metadata": {},
   "outputs": [
    {
     "name": "stdout",
     "output_type": "stream",
     "text": [
      "import pandas as pd\n",
      "\n",
      "# Assuming df is the DataFrame with the given columns\n",
      "center_x, center_y = 275 / 2, 183 / 2\n",
      "threshold_distance = 20\n",
      "\n",
      "df['distance_to_center'] = ((df['mean_x'] - center_x)**2 + (df['mean_y'] - center_y)**2)**0.5\n",
      "near_center = df[df['distance_to_center'] <= threshold_distance]\n",
      "\n",
      "total_area = df['area'].sum()\n",
      "center_area = near_center['area'].sum()\n",
      "\n",
      "percentage_area_near_center = (center_area / total_area) * 100\n",
      "filtered_data = percentage_area_near_center\n"
     ]
    }
   ],
   "source": [
    "query = \"Give me the percentage of the area of rows near the center of the image.\"\n",
    "\n",
    "messages = [\n",
    "    {\"role\": \"system\", \"content\": \"You are an assistant that helps write Python code.\"},\n",
    "    {\"role\": \"user\", \"content\": \n",
    "    f\"\"\"\n",
    "        Considering the following {df.columns} columns in pandas dataframes. Image dimensions are {image_width}x{image_height} and the area is {image_area}.\n",
    "        The user's query is: \"{query}\".\n",
    "\n",
    "        Write the Python code based on the query and assign to a variable called filtered data noticed that you have to aggregated in some cases. \n",
    "        Do not include comments or import statements or library, only the Python code.\n",
    "        \"\"\"}\n",
    "]\n",
    "\n",
    "try:\n",
    "    filter_code = get_filter_code(prompt=messages).replace(\"```python\", \"\").replace(\"```\", \"\").strip()\n",
    "    print(filter_code)\n",
    "    exec(filter_code)\n",
    "except Exception as e:\n",
    "    print(f\"An error occurred: {e}\")"
   ]
  },
  {
   "cell_type": "code",
   "execution_count": 22,
   "metadata": {},
   "outputs": [
    {
     "data": {
      "text/plain": [
       "0.059964021587047764"
      ]
     },
     "execution_count": 22,
     "metadata": {},
     "output_type": "execute_result"
    }
   ],
   "source": [
    "filtered_data"
   ]
  },
  {
   "cell_type": "code",
   "execution_count": null,
   "metadata": {},
   "outputs": [],
   "source": []
  }
 ],
 "metadata": {
  "kernelspec": {
   "display_name": "gestione",
   "language": "python",
   "name": "python3"
  },
  "language_info": {
   "codemirror_mode": {
    "name": "ipython",
    "version": 3
   },
   "file_extension": ".py",
   "mimetype": "text/x-python",
   "name": "python",
   "nbconvert_exporter": "python",
   "pygments_lexer": "ipython3",
   "version": "3.12.2"
  }
 },
 "nbformat": 4,
 "nbformat_minor": 2
}
