{
 "cells": [
  {
   "cell_type": "code",
   "execution_count": 4,
   "metadata": {},
   "outputs": [
    {
     "name": "stdout",
     "output_type": "stream",
     "text": [
      "Collecting python-dotenv\n",
      "  Using cached python_dotenv-1.0.1-py3-none-any.whl.metadata (23 kB)\n",
      "Using cached python_dotenv-1.0.1-py3-none-any.whl (19 kB)\n",
      "Installing collected packages: python-dotenv\n",
      "Successfully installed python-dotenv-1.0.1\n"
     ]
    }
   ],
   "source": [
    "!pip install python-dotenv"
   ]
  },
  {
   "cell_type": "code",
   "execution_count": 11,
   "metadata": {},
   "outputs": [],
   "source": [
    "import torch\n",
    "import os\n",
    "from sentence_transformers import SentenceTransformer\n",
    "import numpy as np\n",
    "import openai\n",
    "from dotenv import load_dotenv\n",
    "\n",
    "# Carica il modello SBERT pre-addestrato\n",
    "model = SentenceTransformer('paraphrase-MiniLM-L6-v2')\n",
    "options = options = os.getenv(\"OPTIONS\").split(\",\")\n",
    "sentence = \"Count me how many truck gold and silver there are.\""
   ]
  },
  {
   "cell_type": "code",
   "execution_count": 10,
   "metadata": {},
   "outputs": [
    {
     "name": "stdout",
     "output_type": "stream",
     "text": [
      "Most Probability world is 'cars' with similarity 0.3768\n"
     ]
    }
   ],
   "source": [
    "sentence_embedding = model.encode([sentence])[0]\n",
    "options_embeddings = model.encode(options)\n",
    "\n",
    "similarities = {}\n",
    "for i, option in enumerate(options):\n",
    "    similarity = np.dot(sentence_embedding, options_embeddings[i]) / (np.linalg.norm(sentence_embedding) * np.linalg.norm(options_embeddings[i]))\n",
    "    similarities[option] = similarity\n",
    "\n",
    "best_option = max(similarities, key=similarities.get)\n",
    "\n",
    "print(f\"Most Probability world is '{best_option}' with similarity {similarities[best_option]:.4f}\")"
   ]
  },
  {
   "cell_type": "code",
   "execution_count": null,
   "metadata": {},
   "outputs": [],
   "source": [
    "from openai import OpenAI\n",
    "import numpy as np\n",
    "\n",
    "api_key = os.getenv(\"OPENAI_API_KEY\")\n",
    "client = OpenAI(api_key=api_key)\n",
    "\n",
    "dataset = np.array([\n",
    "    ['red', 5],\n",
    "    ['blue', 15],\n",
    "    ['green', 10],\n",
    "    ['yellow', 12],\n",
    "    ['white', 20]\n",
    "])\n",
    "\n",
    "def get_filter_code(prompt: str) -> str:\n",
    "    response = client.chat.completions.create(\n",
    "        model=\"gpt-4o\",\n",
    "        messages=prompt,\n",
    "        max_tokens=100,\n",
    "        temperature=0,\n",
    "    )\n",
    "    \n",
    "    return response.choices[0].message.content"
   ]
  },
  {
   "cell_type": "code",
   "execution_count": 17,
   "metadata": {},
   "outputs": [
    {
     "name": "stdout",
     "output_type": "stream",
     "text": [
      "hello world\n"
     ]
    }
   ],
   "source": [
    "query = \"Filter all entries with a number greater than 10 without printing them, and print 'hello world'.\"\n",
    "\n",
    "dataset = dataset\n",
    "\n",
    "messages = [\n",
    "    {\"role\": \"system\", \"content\": \"You are an assistant that helps write Python code.\"},\n",
    "    {\"role\": \"user\", \"content\": \n",
    "    f\"\"\"\n",
    "        Considering the following {dataset} in numpy array format, where the first column is 'color' and the second column is 'number':\n",
    "        The user's query is: \"{query}\".\n",
    "\n",
    "        Write the Python code that filters the dataset based on the query. Do not include comments or import statements, only \n",
    "        the Python code.\n",
    "        \"\"\"}\n",
    "]\n",
    "\n",
    "try:\n",
    "    filter_code = get_filter_code(prompt=messages).replace(\"```python\", \"\").replace(\"```\", \"\").strip()\n",
    "    exec(filter_code)\n",
    "except Exception as e:\n",
    "    print(f\"An error occurred: {e}\")"
   ]
  }
 ],
 "metadata": {
  "kernelspec": {
   "display_name": "gestione",
   "language": "python",
   "name": "python3"
  },
  "language_info": {
   "codemirror_mode": {
    "name": "ipython",
    "version": 3
   },
   "file_extension": ".py",
   "mimetype": "text/x-python",
   "name": "python",
   "nbconvert_exporter": "python",
   "pygments_lexer": "ipython3",
   "version": "3.12.2"
  }
 },
 "nbformat": 4,
 "nbformat_minor": 2
}
